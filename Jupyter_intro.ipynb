{
 "cells": [
  {
   "cell_type": "markdown",
   "metadata": {},
   "source": [
    "# Jupyter Notebooks"
   ]
  },
  {
   "cell_type": "markdown",
   "metadata": {},
   "source": [
    "Jupyter notebooks are a coding environment for Python (and several other programming languages). Like code editors such as SublimeText (and your Terminal or Powershell), you can run code in a notebook and see the output printed below.\n",
    "\n",
    "Jupyter notebooks have several other benefits:\n",
    "1. You can run individual blocks of code one at a time.\n",
    "2. If you run code that prints any output, that output will be saved until the next time you run that block of code.\n",
    "3. You can download your notebook, work on it locally, or publish it publicly so that others can see your code and output in one place, accessed through a stable URL.\n",
    "4. You can easily import someone else's notebook, and customize their code."
   ]
  },
  {
   "cell_type": "markdown",
   "metadata": {},
   "source": [
    "# Running code"
   ]
  },
  {
   "cell_type": "markdown",
   "metadata": {},
   "source": [
    "You can run any Python in Jupyter notebooks that you can in your text editor or terminal.\n",
    "\n",
    "When you press SHIFT+ENTER, the code is executed. If you include print statements, or if your code raises an error, that will be displayed below the code block."
   ]
  },
  {
   "cell_type": "code",
   "execution_count": 7,
   "metadata": {},
   "outputs": [
    {
     "name": "stdout",
     "output_type": "stream",
     "text": [
      "John\n",
      "Graham\n",
      "Eric\n",
      "Michael\n",
      "Terry J.\n",
      "Terry G.\n"
     ]
    }
   ],
   "source": [
    "pythonistas = [\"John\",\"Graham\",\"Eric\",\"Michael\",\"Terry J.\", \"Terry G.\"]\n",
    "\n",
    "for p in pythonistas:\n",
    "    print(p)"
   ]
  },
  {
   "cell_type": "markdown",
   "metadata": {},
   "source": [
    "# Formatting text"
   ]
  },
  {
   "cell_type": "markdown",
   "metadata": {},
   "source": [
    "You can insert blocks of text in your notebook, and format them using a plaintext formatting language called [Markdown](https://daringfireball.net/projects/markdown/syntax).\n",
    "\n",
    "# Heading one\n",
    "\"# Heading one\"\n",
    "\n",
    "## Heading two\n",
    "\"## Heading two\"\n",
    "\n",
    "### Heading three\n",
    "\"### Heading three\"\n",
    "\n",
    "#### Heading four\n",
    "\"#### Heading four\"\n",
    "\n",
    "Numbered lists:\n",
    "1. item one\n",
    "2. item two\n",
    "3. item three\n",
    "\n",
    " \n",
    "**bold text**\n",
    "\n",
    "\\*\\*bold text\\*\\*\n",
    "\n",
    "*italic text*\n",
    "\n",
    "\\*italic text\\*"
   ]
  },
  {
   "cell_type": "markdown",
   "metadata": {},
   "source": [
    "# Importing code libraries\n"
   ]
  },
  {
   "cell_type": "markdown",
   "metadata": {},
   "source": [
    "Many libraries are already installed for you. If you want to import one of these libraries into your notebook, use `import`"
   ]
  },
  {
   "cell_type": "code",
   "execution_count": 8,
   "metadata": {},
   "outputs": [
    {
     "data": {
      "text/plain": [
       "<module 'requests' from '/opt/conda/lib/python3.6/site-packages/requests/__init__.py'>"
      ]
     },
     "execution_count": 8,
     "metadata": {},
     "output_type": "execute_result"
    }
   ],
   "source": [
    "import requests\n",
    "requests"
   ]
  },
  {
   "cell_type": "markdown",
   "metadata": {},
   "source": [
    "If you want to import a Python library that is not already installed, use pip. Starting any line with the `!` will run the following as a shell command.\n",
    "\n",
    "**Note:** any code libraries you install will only be installed as long as your session is active. Currently, HUB sessions expire after 60 minutes of inactivity."
   ]
  },
  {
   "cell_type": "code",
   "execution_count": 9,
   "metadata": {},
   "outputs": [
    {
     "name": "stdout",
     "output_type": "stream",
     "text": [
      "Collecting mwclient==0.8.6\n",
      "  Using cached mwclient-0.8.6-py2.py3-none-any.whl\n",
      "Collecting requests-oauthlib (from mwclient==0.8.6)\n",
      "  Using cached requests_oauthlib-0.8.0-py2.py3-none-any.whl\n",
      "Requirement already satisfied: six in /opt/conda/lib/python3.6/site-packages (from mwclient==0.8.6)\n",
      "Collecting oauthlib>=0.6.2 (from requests-oauthlib->mwclient==0.8.6)\n",
      "Requirement already satisfied: requests>=2.0.0 in /opt/conda/lib/python3.6/site-packages (from requests-oauthlib->mwclient==0.8.6)\n",
      "Requirement already satisfied: chardet<3.1.0,>=3.0.2 in /opt/conda/lib/python3.6/site-packages (from requests>=2.0.0->requests-oauthlib->mwclient==0.8.6)\n",
      "Requirement already satisfied: idna<2.7,>=2.5 in /opt/conda/lib/python3.6/site-packages (from requests>=2.0.0->requests-oauthlib->mwclient==0.8.6)\n",
      "Requirement already satisfied: urllib3<1.23,>=1.21.1 in /opt/conda/lib/python3.6/site-packages (from requests>=2.0.0->requests-oauthlib->mwclient==0.8.6)\n",
      "Requirement already satisfied: certifi>=2017.4.17 in /opt/conda/lib/python3.6/site-packages (from requests>=2.0.0->requests-oauthlib->mwclient==0.8.6)\n",
      "Installing collected packages: oauthlib, requests-oauthlib, mwclient\n",
      "Successfully installed mwclient-0.8.6 oauthlib-2.0.4 requests-oauthlib-0.8.0\n"
     ]
    }
   ],
   "source": [
    "!pip install mwclient==0.8.6"
   ]
  },
  {
   "cell_type": "markdown",
   "metadata": {},
   "source": [
    "# Importing data"
   ]
  },
  {
   "cell_type": "markdown",
   "metadata": {},
   "source": [
    "## Importing data from the web into your notebook\n",
    "Use WGET"
   ]
  },
  {
   "cell_type": "code",
   "execution_count": 10,
   "metadata": {},
   "outputs": [
    {
     "name": "stdout",
     "output_type": "stream",
     "text": [
      "--2017-10-12 20:17:34--  https://raw.githubusercontent.com/jtmorgan/geomo/master/iso_3166_2_countries.csv\n",
      "Resolving raw.githubusercontent.com (raw.githubusercontent.com)... 151.101.52.133\n",
      "Connecting to raw.githubusercontent.com (raw.githubusercontent.com)|151.101.52.133|:443... connected.\n",
      "HTTP request sent, awaiting response... 200 OK\n",
      "Length: 26597 (26K) [text/plain]\n",
      "Saving to: ‘iso_3166_2_countries.csv.1’\n",
      "\n",
      "iso_3166_2_countrie 100%[===================>]  25.97K  --.-KB/s    in 0s      \n",
      "\n",
      "2017-10-12 20:17:34 (60.7 MB/s) - ‘iso_3166_2_countries.csv.1’ saved [26597/26597]\n",
      "\n"
     ]
    }
   ],
   "source": [
    "!wget https://raw.githubusercontent.com/jtmorgan/geomo/master/iso_3166_2_countries.csv"
   ]
  },
  {
   "cell_type": "markdown",
   "metadata": {},
   "source": [
    "## Importing data from your home directory into your notebook"
   ]
  },
  {
   "cell_type": "code",
   "execution_count": 11,
   "metadata": {},
   "outputs": [
    {
     "name": "stdout",
     "output_type": "stream",
     "text": [
      "Sophia,F,21799\n",
      "\n",
      "Isabella,F,19850\n",
      "\n",
      "Emma,F,18761\n",
      "\n",
      "Olivia,F,17286\n",
      "\n",
      "Ava,F,15471\n",
      "\n",
      "Emily,F,14228\n",
      "\n",
      "Abigail,F,13221\n",
      "\n",
      "Madison,F,12351\n",
      "\n",
      "Mia,F,11503\n",
      "\n",
      "Chloe,F,10966\n",
      "\n",
      "Elizabeth,F,10050\n",
      "\n",
      "Ella,F,9567\n",
      "\n",
      "Addison,F,9286\n",
      "\n",
      "Natalie,F,8620\n",
      "\n",
      "Lily,F,8164\n",
      "\n",
      "Grace,F,7613\n",
      "\n",
      "Samantha,F,7375\n",
      "\n",
      "Avery,F,7331\n",
      "\n",
      "Sofia,F,7314\n",
      "\n",
      "Aubrey,F,7167\n",
      "\n",
      "Brooklyn,F,7151\n",
      "\n",
      "Lillian,F,6900\n",
      "\n",
      "Victoria,F,6874\n",
      "\n",
      "Evelyn,F,6695\n",
      "\n",
      "Hannah,F,6547\n",
      "\n",
      "Alexis,F,6508\n",
      "\n",
      "Charlotte,F,6414\n",
      "\n",
      "Zoey,F,6388\n",
      "\n",
      "Leah,F,6372\n",
      "\n",
      "Amelia,F,6356\n",
      "\n",
      "Zoe,F,6287\n",
      "\n",
      "Hailey,F,6258\n",
      "\n",
      "Gabriella,F,6079\n",
      "\n",
      "Layla,F,6071\n",
      "\n",
      "Nevaeh,F,6068\n",
      "\n",
      "Kaylee,F,6027\n",
      "\n",
      "Alyssa,F,5996\n",
      "\n",
      "Anna,F,5641\n",
      "\n",
      "Sarah,F,5532\n",
      "\n",
      "Allison,F,5447\n",
      "\n",
      "Savannah,F,5433\n",
      "\n",
      "Ashley,F,5392\n",
      "\n",
      "Audrey,F,5206\n",
      "\n",
      "Taylor,F,5184\n",
      "\n",
      "Brianna,F,5171\n",
      "\n",
      "Aaliyah,F,5102\n",
      "\n",
      "Riley,F,5026\n",
      "\n",
      "Camila,F,4965\n",
      "\n",
      "Khloe,F,4942\n",
      "\n",
      "Zakarri,M,5\n",
      "\n",
      "Zakhar,M,5\n",
      "\n",
      "Zakhari,M,5\n",
      "\n",
      "Zakry,M,5\n",
      "\n",
      "Zalynn,M,5\n",
      "\n",
      "Zaman,M,5\n",
      "\n",
      "Zamaree,M,5\n",
      "\n",
      "Zamarius,M,5\n",
      "\n",
      "Zamiel,M,5\n",
      "\n",
      "Zamiere,M,5\n",
      "\n",
      "Zandar,M,5\n",
      "\n",
      "Zandre,M,5\n",
      "\n",
      "Zandyn,M,5\n",
      "\n",
      "Zanthony,M,5\n",
      "\n",
      "Zari,M,5\n",
      "\n",
      "Zarrion,M,5\n",
      "\n",
      "Zaryn,M,5\n",
      "\n",
      "Zathan,M,5\n",
      "\n",
      "Zaviyon,M,5\n",
      "\n",
      "Zaya,M,5\n",
      "\n",
      "Zayen,M,5\n",
      "\n",
      "Zayir,M,5\n",
      "\n",
      "Zayvien,M,5\n",
      "\n",
      "Zecheriah,M,5\n",
      "\n",
      "Zeid,M,5\n",
      "\n",
      "Zeik,M,5\n",
      "\n",
      "Zell,M,5\n",
      "\n",
      "Zeph,M,5\n",
      "\n",
      "Zephram,M,5\n",
      "\n",
      "Zephyrus,M,5\n",
      "\n",
      "Zepplin,M,5\n",
      "\n",
      "Zerik,M,5\n",
      "\n",
      "Zeryk,M,5\n",
      "\n",
      "Zeyd,M,5\n",
      "\n",
      "Zeyden,M,5\n",
      "\n",
      "Zhair,M,5\n",
      "\n",
      "Zhi,M,5\n",
      "\n",
      "Zidaan,M,5\n",
      "\n",
      "Zihan,M,5\n",
      "\n",
      "Zihao,M,5\n",
      "\n",
      "Ziheir,M,5\n",
      "\n",
      "Zimri,M,5\n",
      "\n",
      "Zyerre,M,5\n",
      "\n",
      "Zykell,M,5\n",
      "\n",
      "Zylar,M,5\n",
      "\n",
      "Zylas,M,5\n",
      "\n",
      "Zyran,M,5\n",
      "\n",
      "Zyshawn,M,5\n",
      "\n",
      "Zytavion,M,5\n",
      "\n"
     ]
    }
   ],
   "source": [
    "NAMES_LIST = \"yob2011_short.txt\"\n",
    "\n",
    "boys = {}\n",
    "girls = {}\n",
    "\n",
    "for line in open(NAMES_LIST, 'r').readlines():\n",
    "    print(line)\n",
    "    name, gender, count = line.strip().split(\",\")\n",
    "    count = int(count)\n",
    "\n",
    "    if gender == \"F\":\n",
    "        girls[name.lower()] = count\n",
    "    elif gender == \"M\":\n",
    "        boys[name.lower()] = count"
   ]
  },
  {
   "cell_type": "code",
   "execution_count": 12,
   "metadata": {},
   "outputs": [
    {
     "name": "stdout",
     "output_type": "stream",
     "text": [
      "21799\n"
     ]
    }
   ],
   "source": [
    "print(girls['sophia'])"
   ]
  },
  {
   "cell_type": "markdown",
   "metadata": {},
   "source": [
    "# Running Javascript and HTML"
   ]
  },
  {
   "cell_type": "markdown",
   "metadata": {},
   "source": [
    "To run Javascript code in a notebook cell, start the cell with `%%javascript` (needs to be the first line). Un-comment the lines below and execute the cell for a demonstration.\n"
   ]
  },
  {
   "cell_type": "code",
   "execution_count": 6,
   "metadata": {},
   "outputs": [
    {
     "ename": "SyntaxError",
     "evalue": "invalid syntax (<ipython-input-6-20a446ec62d6>, line 1)",
     "output_type": "error",
     "traceback": [
      "\u001b[0;36m  File \u001b[0;32m\"<ipython-input-6-20a446ec62d6>\"\u001b[0;36m, line \u001b[0;32m1\u001b[0m\n\u001b[0;31m    (/, %%javascript)\u001b[0m\n\u001b[0m     ^\u001b[0m\n\u001b[0;31mSyntaxError\u001b[0m\u001b[0;31m:\u001b[0m invalid syntax\n"
     ]
    }
   ],
   "source": [
    "// %%javascript\n",
    "// alert(\"hello world\");"
   ]
  },
  {
   "cell_type": "markdown",
   "metadata": {},
   "source": [
    "To render HTML, invoke `%%html` in the first line of your cell."
   ]
  },
  {
   "cell_type": "code",
   "execution_count": 4,
   "metadata": {},
   "outputs": [
    {
     "data": {
      "text/html": [
       "<strong>THIS IS BOLD</strong>"
      ],
      "text/plain": [
       "<IPython.core.display.HTML object>"
      ]
     },
     "metadata": {},
     "output_type": "display_data"
    }
   ],
   "source": [
    "%%html\n",
    "<strong>THIS IS BOLD</strong>"
   ]
  },
  {
   "cell_type": "markdown",
   "metadata": {},
   "source": [
    "To import Javascript libraries for use in HTML interfaces, use the HTML `<script>` tag and specify the source. For a demonstration, un-comment and run the code below, then click the button \"Display dimensions of document and window\".\n",
    "\n"
   ]
  },
  {
   "cell_type": "code",
   "execution_count": 3,
   "metadata": {},
   "outputs": [],
   "source": [
    "# %%html\n",
    "# <html>\n",
    "# <head>\n",
    "# <script src=\"https://ajax.googleapis.com/ajax/libs/jquery/3.2.1/jquery.min.js\"></script>\n",
    "# <script>\n",
    "# $(document).ready(function(){\n",
    "#     $(\"button[id='tester']\").click(function(){\n",
    "#         var txt = \"\";\n",
    "#         txt += \"Document width/height: \" + $(document).width();\n",
    "#         txt += \"x\" + $(document).height() + \"\\n\";\n",
    "#         txt += \"Window width/height: \" + $(window).width();\n",
    "#         txt += \"x\" + $(window).height();\n",
    "#         alert(txt);\n",
    "#     });\n",
    "# });\n",
    "# </script>\n",
    "# </head>\n",
    "# <body>\n",
    "# <button id=\"tester\">Display dimensions of document and window</button>\n",
    "# </body>\n",
    "# </html>"
   ]
  },
  {
   "cell_type": "markdown",
   "metadata": {},
   "source": [
    "*Note:* if you encounter any annoyances after running the script above (like the JS event window keeps popping up every time you hit any button at all), comment out the code and re-run the cell."
   ]
  },
  {
   "cell_type": "markdown",
   "metadata": {},
   "source": [
    "**See also:** \n",
    "- *[Jupyter notebook examples: Javascript Notebook Extensions](http://jupyter-notebook.readthedocs.io/en/stable/examples/Notebook/JavaScript%20Notebook%20Extensions.html)*\n",
    "- *[Embedding D3 in an iPython notebook](https://blog.thedataincubator.com/2015/08/embedding-d3-in-an-ipython-notebook/)*\n",
    "- *[Jupyter notebook interactive charts](http://jacobbridges.github.io/post/jupyter-notebook-with-interactive-charts/)*"
   ]
  },
  {
   "cell_type": "markdown",
   "metadata": {},
   "source": [
    "## Simple API query example\n",
    "In this example, we query the [MediaWiki action API](https://www.mediawiki.org/wiki/API:Main_page) to count the number of edits made to the Wikipedia article *[Panama Papers](https://en.wikipedia.org/wiki/Panama_Papers)* within the first 24 hours of that article's existence."
   ]
  },
  {
   "cell_type": "code",
   "execution_count": 7,
   "metadata": {},
   "outputs": [
    {
     "name": "stdout",
     "output_type": "stream",
     "text": [
      "Done one query, num revisions is now 500\n",
      "Done one query, num revisions is now 607\n",
      "Panama_Papers had 607 revisions in the first 24 hours\n"
     ]
    }
   ],
   "source": [
    "import requests\n",
    "\n",
    "ENDPOINT = 'https://en.wikipedia.org/w/api.php'\n",
    "\n",
    "parameters = { 'action' : 'query',\n",
    "               'prop' : 'revisions',\n",
    "               'titles' : 'Panama_Papers',\n",
    "               'format' : 'json',\n",
    "               'rvdir' : 'newer',\n",
    "               'rvlimit' : 500,\n",
    "               'rvstart': '2016-04-03T17:59:05Z',\n",
    "               'rvend' : '2016-04-04T17:59:05Z',\n",
    "               'continue' : '' }\n",
    "\n",
    "num_revisions = 0\n",
    "\n",
    "done = False\n",
    "while not done:\n",
    "    wp_call = requests.get(ENDPOINT, params=parameters)\n",
    "    response = wp_call.json()\n",
    "\n",
    "    pages = response['query']['pages']\n",
    "\n",
    "    for page_id in pages:\n",
    "        page = pages[page_id]\n",
    "        revisions = page['revisions']\n",
    "        for revision in revisions:\n",
    "            num_revisions += 1\n",
    "\n",
    "    print('Done one query, num revisions is now ' + str(num_revisions))\n",
    "\n",
    "    if 'continue' in response:\n",
    "        parameters['continue'] = response['continue']['continue']\n",
    "        parameters['rvcontinue'] = response['continue']['rvcontinue']\n",
    "    else:\n",
    "        done = True\n",
    "\n",
    "print(parameters['titles'] + ' had ' + str(num_revisions) + ' revisions in the first 24 hours')"
   ]
  },
  {
   "cell_type": "markdown",
   "metadata": {},
   "source": [
    "## More information"
   ]
  },
  {
   "cell_type": "markdown",
   "metadata": {},
   "source": [
    "### Jupyter tutorials\n",
    "- [Jupyter/IPython Notebook Quick Start Guide](https://jupyter-notebook-beginner-guide.readthedocs.io/en/latest/)\n",
    "- [Jupyter Notebook Tutorial: The Definitive Guide](https://www.datacamp.com/community/tutorials/tutorial-jupyter-notebook)"
   ]
  },
  {
   "cell_type": "markdown",
   "metadata": {},
   "source": [
    "### Some example notebooks"
   ]
  },
  {
   "cell_type": "markdown",
   "metadata": {},
   "source": [
    "- https://github.com/ewulczyn/wmf/blob/master/clickstream/ipython/Wikipedia%20Clickstream%20-%20Getting%20Started.ipynb\n",
    "- http://paws-public.wmflabs.org/paws-public/User:YuviPanda/ipywidgets/examples/notebooks/\n",
    "- [A gallery of interesting Jupyter Notebooks](https://github.com/jupyter/jupyter/wiki/A-gallery-of-interesting-Jupyter-Notebooks)\n",
    "- [Notebook Gallery: Links to the best IPython and Jupyter Notebooks](http://nb.bianp.net/sort/views/)"
   ]
  },
  {
   "cell_type": "code",
   "execution_count": null,
   "metadata": {
    "collapsed": true
   },
   "outputs": [],
   "source": []
  }
 ],
 "metadata": {
  "kernelspec": {
   "display_name": "Python 3",
   "language": "python",
   "name": "python3"
  },
  "language_info": {
   "codemirror_mode": {
    "name": "ipython",
    "version": 3
   },
   "file_extension": ".py",
   "mimetype": "text/x-python",
   "name": "python",
   "nbconvert_exporter": "python",
   "pygments_lexer": "ipython3",
   "version": "3.6.2"
  },
  "widgets": {
   "state": {},
   "version": "1.1.0"
  }
 },
 "nbformat": 4,
 "nbformat_minor": 1
}
